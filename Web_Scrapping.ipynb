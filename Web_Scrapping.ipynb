{
 "cells": [
  {
   "cell_type": "markdown",
   "id": "67c7785b-254c-4f6e-818c-90de78a0e437",
   "metadata": {},
   "source": [
    "## Q1. What is Web Scraping? Why is it Used? Give three areas where Web Scraping is used to get data.\n",
    "\n",
    "<p> Web scraping is the process of extracting data from websites. It involves fetching web pages, parsing the HTML code, and extracting the desired information. This extracted data can then be stored, analyzed, or used for various purposes like Data Collection, Market Research,  Monitoring and Tracking <p>"
   ]
  },
  {
   "cell_type": "markdown",
   "id": "93125cd0-3b49-4a3e-bf56-e2db13b01d10",
   "metadata": {},
   "source": [
    "## Q2. What are the different methods used for Web Scraping?\n",
    "\n",
    "#### Using Web Scraping Libraries, APIs, Browser Extensions, HTTP Requests and Manual Scraping "
   ]
  },
  {
   "cell_type": "markdown",
   "id": "914515d1-3cbc-4147-bb33-440f53a731e7",
   "metadata": {},
   "source": [
    "## Q3. What is Beautiful Soup? Why is it used?\n",
    "\n",
    "<P> Beautiful Soup is a Python library used for web scraping purposes. It provides tools for extracting data from HTML and XML files. Beautiful Soup creates a parse tree from the parsed page, which can be used to extract data effortlessly. <P>"
   ]
  },
  {
   "cell_type": "markdown",
   "id": "11b0a74f-e702-4f8f-a0a2-cb25a6bb5566",
   "metadata": {},
   "source": [
    "## Q4. Why is flask used in this Web Scraping project?\n",
    "\n",
    "Flask is a lightweight and versatile web framework for Python. While Flask is commonly used for building web applications, it can also be useful in web scraping projects"
   ]
  },
  {
   "cell_type": "markdown",
   "id": "d8ed1cc0-15f4-4909-acc0-adb891b0493d",
   "metadata": {},
   "source": [
    "## Q5. Write the names of AWS services used in this project. Also, explain the use of each service.\n",
    "\n",
    "### AWS Elastic Beanstalk:\n",
    "<p> \n",
    "Use: Elastic Beanstalk is a Platform as a Service (PaaS) offering that simplifies the deployment and management of web applications and services. It allows developers to upload their application code, and AWS handles the provisioning and management of the underlying infrastructure. <p>\n",
    "    \n",
    "### AWS CodePipeline:\n",
    "    \n",
    "<p> Use: CodePipeline is a continuous integration and continuous delivery (CI/CD) service that automates the process of building, testing, and deploying applications and infrastructure changes. <p>"
   ]
  },
  {
   "cell_type": "code",
   "execution_count": null,
   "id": "69c11555-5e5c-47bc-8600-18a916d1deaf",
   "metadata": {},
   "outputs": [],
   "source": []
  }
 ],
 "metadata": {
  "kernelspec": {
   "display_name": "Python 3 (ipykernel)",
   "language": "python",
   "name": "python3"
  },
  "language_info": {
   "codemirror_mode": {
    "name": "ipython",
    "version": 3
   },
   "file_extension": ".py",
   "mimetype": "text/x-python",
   "name": "python",
   "nbconvert_exporter": "python",
   "pygments_lexer": "ipython3",
   "version": "3.10.8"
  }
 },
 "nbformat": 4,
 "nbformat_minor": 5
}
